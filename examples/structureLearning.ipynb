{
 "cells": [
  {
   "cell_type": "code",
   "execution_count": 2,
   "metadata": {},
   "outputs": [
    {
     "ename": "FileNotFoundError",
     "evalue": "[Errno 2] No such file or directory: 'feedbacks.csv'",
     "output_type": "error",
     "traceback": [
      "\u001b[0;31m---------------------------------------------------------------------------\u001b[0m",
      "\u001b[0;31mFileNotFoundError\u001b[0m                         Traceback (most recent call last)",
      "Cell \u001b[0;32mIn[2], line 4\u001b[0m\n\u001b[1;32m      1\u001b[0m \u001b[38;5;28;01mimport\u001b[39;00m \u001b[38;5;21;01mpandas\u001b[39;00m \u001b[38;5;28;01mas\u001b[39;00m \u001b[38;5;21;01mpd\u001b[39;00m\n\u001b[1;32m      3\u001b[0m \u001b[38;5;66;03m# load the csv file containing the feedbacks into a pandas dataframe and format/parse the columns\u001b[39;00m\n\u001b[0;32m----> 4\u001b[0m df \u001b[38;5;241m=\u001b[39m \u001b[43mpd\u001b[49m\u001b[38;5;241;43m.\u001b[39;49m\u001b[43mread_csv\u001b[49m\u001b[43m(\u001b[49m\u001b[38;5;124;43m\"\u001b[39;49m\u001b[38;5;124;43mfeedbacks.csv\u001b[39;49m\u001b[38;5;124;43m\"\u001b[39;49m\u001b[43m,\u001b[49m\u001b[43m \u001b[49m\u001b[43msep\u001b[49m\u001b[38;5;241;43m=\u001b[39;49m\u001b[38;5;124;43m\"\u001b[39;49m\u001b[38;5;124;43m;\u001b[39;49m\u001b[38;5;124;43m\"\u001b[39;49m\u001b[43m,\u001b[49m\u001b[43m \u001b[49m\u001b[43mheader\u001b[49m\u001b[38;5;241;43m=\u001b[39;49m\u001b[38;5;241;43m0\u001b[39;49m\u001b[43m)\u001b[49m\n\u001b[1;32m      5\u001b[0m df[\u001b[38;5;124m'\u001b[39m\u001b[38;5;124mActual Start\u001b[39m\u001b[38;5;124m'\u001b[39m] \u001b[38;5;241m=\u001b[39m pd\u001b[38;5;241m.\u001b[39mto_datetime(df[\u001b[38;5;124m'\u001b[39m\u001b[38;5;124mActual Start\u001b[39m\u001b[38;5;124m'\u001b[39m], \u001b[38;5;28mformat\u001b[39m\u001b[38;5;241m=\u001b[39m\u001b[38;5;124m'\u001b[39m\u001b[38;5;132;01m%d\u001b[39;00m\u001b[38;5;124m.\u001b[39m\u001b[38;5;124m%\u001b[39m\u001b[38;5;124mm.\u001b[39m\u001b[38;5;124m%\u001b[39m\u001b[38;5;124mY \u001b[39m\u001b[38;5;124m%\u001b[39m\u001b[38;5;124mH:\u001b[39m\u001b[38;5;124m%\u001b[39m\u001b[38;5;124mM:\u001b[39m\u001b[38;5;124m%\u001b[39m\u001b[38;5;124mS\u001b[39m\u001b[38;5;124m'\u001b[39m)\n\u001b[1;32m      6\u001b[0m df[\u001b[38;5;124m'\u001b[39m\u001b[38;5;124mActual End\u001b[39m\u001b[38;5;124m'\u001b[39m] \u001b[38;5;241m=\u001b[39m pd\u001b[38;5;241m.\u001b[39mto_datetime(df[\u001b[38;5;124m'\u001b[39m\u001b[38;5;124mActual End\u001b[39m\u001b[38;5;124m'\u001b[39m], \u001b[38;5;28mformat\u001b[39m\u001b[38;5;241m=\u001b[39m\u001b[38;5;124m'\u001b[39m\u001b[38;5;132;01m%d\u001b[39;00m\u001b[38;5;124m.\u001b[39m\u001b[38;5;124m%\u001b[39m\u001b[38;5;124mm.\u001b[39m\u001b[38;5;124m%\u001b[39m\u001b[38;5;124mY \u001b[39m\u001b[38;5;124m%\u001b[39m\u001b[38;5;124mH:\u001b[39m\u001b[38;5;124m%\u001b[39m\u001b[38;5;124mM:\u001b[39m\u001b[38;5;124m%\u001b[39m\u001b[38;5;124mS\u001b[39m\u001b[38;5;124m'\u001b[39m)\n",
      "File \u001b[0;32m~/repo/SimpleProcessSim/.venv/lib/python3.11/site-packages/pandas/io/parsers/readers.py:1026\u001b[0m, in \u001b[0;36mread_csv\u001b[0;34m(filepath_or_buffer, sep, delimiter, header, names, index_col, usecols, dtype, engine, converters, true_values, false_values, skipinitialspace, skiprows, skipfooter, nrows, na_values, keep_default_na, na_filter, verbose, skip_blank_lines, parse_dates, infer_datetime_format, keep_date_col, date_parser, date_format, dayfirst, cache_dates, iterator, chunksize, compression, thousands, decimal, lineterminator, quotechar, quoting, doublequote, escapechar, comment, encoding, encoding_errors, dialect, on_bad_lines, delim_whitespace, low_memory, memory_map, float_precision, storage_options, dtype_backend)\u001b[0m\n\u001b[1;32m   1013\u001b[0m kwds_defaults \u001b[38;5;241m=\u001b[39m _refine_defaults_read(\n\u001b[1;32m   1014\u001b[0m     dialect,\n\u001b[1;32m   1015\u001b[0m     delimiter,\n\u001b[0;32m   (...)\u001b[0m\n\u001b[1;32m   1022\u001b[0m     dtype_backend\u001b[38;5;241m=\u001b[39mdtype_backend,\n\u001b[1;32m   1023\u001b[0m )\n\u001b[1;32m   1024\u001b[0m kwds\u001b[38;5;241m.\u001b[39mupdate(kwds_defaults)\n\u001b[0;32m-> 1026\u001b[0m \u001b[38;5;28;01mreturn\u001b[39;00m \u001b[43m_read\u001b[49m\u001b[43m(\u001b[49m\u001b[43mfilepath_or_buffer\u001b[49m\u001b[43m,\u001b[49m\u001b[43m \u001b[49m\u001b[43mkwds\u001b[49m\u001b[43m)\u001b[49m\n",
      "File \u001b[0;32m~/repo/SimpleProcessSim/.venv/lib/python3.11/site-packages/pandas/io/parsers/readers.py:620\u001b[0m, in \u001b[0;36m_read\u001b[0;34m(filepath_or_buffer, kwds)\u001b[0m\n\u001b[1;32m    617\u001b[0m _validate_names(kwds\u001b[38;5;241m.\u001b[39mget(\u001b[38;5;124m\"\u001b[39m\u001b[38;5;124mnames\u001b[39m\u001b[38;5;124m\"\u001b[39m, \u001b[38;5;28;01mNone\u001b[39;00m))\n\u001b[1;32m    619\u001b[0m \u001b[38;5;66;03m# Create the parser.\u001b[39;00m\n\u001b[0;32m--> 620\u001b[0m parser \u001b[38;5;241m=\u001b[39m \u001b[43mTextFileReader\u001b[49m\u001b[43m(\u001b[49m\u001b[43mfilepath_or_buffer\u001b[49m\u001b[43m,\u001b[49m\u001b[43m \u001b[49m\u001b[38;5;241;43m*\u001b[39;49m\u001b[38;5;241;43m*\u001b[39;49m\u001b[43mkwds\u001b[49m\u001b[43m)\u001b[49m\n\u001b[1;32m    622\u001b[0m \u001b[38;5;28;01mif\u001b[39;00m chunksize \u001b[38;5;129;01mor\u001b[39;00m iterator:\n\u001b[1;32m    623\u001b[0m     \u001b[38;5;28;01mreturn\u001b[39;00m parser\n",
      "File \u001b[0;32m~/repo/SimpleProcessSim/.venv/lib/python3.11/site-packages/pandas/io/parsers/readers.py:1620\u001b[0m, in \u001b[0;36mTextFileReader.__init__\u001b[0;34m(self, f, engine, **kwds)\u001b[0m\n\u001b[1;32m   1617\u001b[0m     \u001b[38;5;28mself\u001b[39m\u001b[38;5;241m.\u001b[39moptions[\u001b[38;5;124m\"\u001b[39m\u001b[38;5;124mhas_index_names\u001b[39m\u001b[38;5;124m\"\u001b[39m] \u001b[38;5;241m=\u001b[39m kwds[\u001b[38;5;124m\"\u001b[39m\u001b[38;5;124mhas_index_names\u001b[39m\u001b[38;5;124m\"\u001b[39m]\n\u001b[1;32m   1619\u001b[0m \u001b[38;5;28mself\u001b[39m\u001b[38;5;241m.\u001b[39mhandles: IOHandles \u001b[38;5;241m|\u001b[39m \u001b[38;5;28;01mNone\u001b[39;00m \u001b[38;5;241m=\u001b[39m \u001b[38;5;28;01mNone\u001b[39;00m\n\u001b[0;32m-> 1620\u001b[0m \u001b[38;5;28mself\u001b[39m\u001b[38;5;241m.\u001b[39m_engine \u001b[38;5;241m=\u001b[39m \u001b[38;5;28;43mself\u001b[39;49m\u001b[38;5;241;43m.\u001b[39;49m\u001b[43m_make_engine\u001b[49m\u001b[43m(\u001b[49m\u001b[43mf\u001b[49m\u001b[43m,\u001b[49m\u001b[43m \u001b[49m\u001b[38;5;28;43mself\u001b[39;49m\u001b[38;5;241;43m.\u001b[39;49m\u001b[43mengine\u001b[49m\u001b[43m)\u001b[49m\n",
      "File \u001b[0;32m~/repo/SimpleProcessSim/.venv/lib/python3.11/site-packages/pandas/io/parsers/readers.py:1880\u001b[0m, in \u001b[0;36mTextFileReader._make_engine\u001b[0;34m(self, f, engine)\u001b[0m\n\u001b[1;32m   1878\u001b[0m     \u001b[38;5;28;01mif\u001b[39;00m \u001b[38;5;124m\"\u001b[39m\u001b[38;5;124mb\u001b[39m\u001b[38;5;124m\"\u001b[39m \u001b[38;5;129;01mnot\u001b[39;00m \u001b[38;5;129;01min\u001b[39;00m mode:\n\u001b[1;32m   1879\u001b[0m         mode \u001b[38;5;241m+\u001b[39m\u001b[38;5;241m=\u001b[39m \u001b[38;5;124m\"\u001b[39m\u001b[38;5;124mb\u001b[39m\u001b[38;5;124m\"\u001b[39m\n\u001b[0;32m-> 1880\u001b[0m \u001b[38;5;28mself\u001b[39m\u001b[38;5;241m.\u001b[39mhandles \u001b[38;5;241m=\u001b[39m \u001b[43mget_handle\u001b[49m\u001b[43m(\u001b[49m\n\u001b[1;32m   1881\u001b[0m \u001b[43m    \u001b[49m\u001b[43mf\u001b[49m\u001b[43m,\u001b[49m\n\u001b[1;32m   1882\u001b[0m \u001b[43m    \u001b[49m\u001b[43mmode\u001b[49m\u001b[43m,\u001b[49m\n\u001b[1;32m   1883\u001b[0m \u001b[43m    \u001b[49m\u001b[43mencoding\u001b[49m\u001b[38;5;241;43m=\u001b[39;49m\u001b[38;5;28;43mself\u001b[39;49m\u001b[38;5;241;43m.\u001b[39;49m\u001b[43moptions\u001b[49m\u001b[38;5;241;43m.\u001b[39;49m\u001b[43mget\u001b[49m\u001b[43m(\u001b[49m\u001b[38;5;124;43m\"\u001b[39;49m\u001b[38;5;124;43mencoding\u001b[39;49m\u001b[38;5;124;43m\"\u001b[39;49m\u001b[43m,\u001b[49m\u001b[43m \u001b[49m\u001b[38;5;28;43;01mNone\u001b[39;49;00m\u001b[43m)\u001b[49m\u001b[43m,\u001b[49m\n\u001b[1;32m   1884\u001b[0m \u001b[43m    \u001b[49m\u001b[43mcompression\u001b[49m\u001b[38;5;241;43m=\u001b[39;49m\u001b[38;5;28;43mself\u001b[39;49m\u001b[38;5;241;43m.\u001b[39;49m\u001b[43moptions\u001b[49m\u001b[38;5;241;43m.\u001b[39;49m\u001b[43mget\u001b[49m\u001b[43m(\u001b[49m\u001b[38;5;124;43m\"\u001b[39;49m\u001b[38;5;124;43mcompression\u001b[39;49m\u001b[38;5;124;43m\"\u001b[39;49m\u001b[43m,\u001b[49m\u001b[43m \u001b[49m\u001b[38;5;28;43;01mNone\u001b[39;49;00m\u001b[43m)\u001b[49m\u001b[43m,\u001b[49m\n\u001b[1;32m   1885\u001b[0m \u001b[43m    \u001b[49m\u001b[43mmemory_map\u001b[49m\u001b[38;5;241;43m=\u001b[39;49m\u001b[38;5;28;43mself\u001b[39;49m\u001b[38;5;241;43m.\u001b[39;49m\u001b[43moptions\u001b[49m\u001b[38;5;241;43m.\u001b[39;49m\u001b[43mget\u001b[49m\u001b[43m(\u001b[49m\u001b[38;5;124;43m\"\u001b[39;49m\u001b[38;5;124;43mmemory_map\u001b[39;49m\u001b[38;5;124;43m\"\u001b[39;49m\u001b[43m,\u001b[49m\u001b[43m \u001b[49m\u001b[38;5;28;43;01mFalse\u001b[39;49;00m\u001b[43m)\u001b[49m\u001b[43m,\u001b[49m\n\u001b[1;32m   1886\u001b[0m \u001b[43m    \u001b[49m\u001b[43mis_text\u001b[49m\u001b[38;5;241;43m=\u001b[39;49m\u001b[43mis_text\u001b[49m\u001b[43m,\u001b[49m\n\u001b[1;32m   1887\u001b[0m \u001b[43m    \u001b[49m\u001b[43merrors\u001b[49m\u001b[38;5;241;43m=\u001b[39;49m\u001b[38;5;28;43mself\u001b[39;49m\u001b[38;5;241;43m.\u001b[39;49m\u001b[43moptions\u001b[49m\u001b[38;5;241;43m.\u001b[39;49m\u001b[43mget\u001b[49m\u001b[43m(\u001b[49m\u001b[38;5;124;43m\"\u001b[39;49m\u001b[38;5;124;43mencoding_errors\u001b[39;49m\u001b[38;5;124;43m\"\u001b[39;49m\u001b[43m,\u001b[49m\u001b[43m \u001b[49m\u001b[38;5;124;43m\"\u001b[39;49m\u001b[38;5;124;43mstrict\u001b[39;49m\u001b[38;5;124;43m\"\u001b[39;49m\u001b[43m)\u001b[49m\u001b[43m,\u001b[49m\n\u001b[1;32m   1888\u001b[0m \u001b[43m    \u001b[49m\u001b[43mstorage_options\u001b[49m\u001b[38;5;241;43m=\u001b[39;49m\u001b[38;5;28;43mself\u001b[39;49m\u001b[38;5;241;43m.\u001b[39;49m\u001b[43moptions\u001b[49m\u001b[38;5;241;43m.\u001b[39;49m\u001b[43mget\u001b[49m\u001b[43m(\u001b[49m\u001b[38;5;124;43m\"\u001b[39;49m\u001b[38;5;124;43mstorage_options\u001b[39;49m\u001b[38;5;124;43m\"\u001b[39;49m\u001b[43m,\u001b[49m\u001b[43m \u001b[49m\u001b[38;5;28;43;01mNone\u001b[39;49;00m\u001b[43m)\u001b[49m\u001b[43m,\u001b[49m\n\u001b[1;32m   1889\u001b[0m \u001b[43m\u001b[49m\u001b[43m)\u001b[49m\n\u001b[1;32m   1890\u001b[0m \u001b[38;5;28;01massert\u001b[39;00m \u001b[38;5;28mself\u001b[39m\u001b[38;5;241m.\u001b[39mhandles \u001b[38;5;129;01mis\u001b[39;00m \u001b[38;5;129;01mnot\u001b[39;00m \u001b[38;5;28;01mNone\u001b[39;00m\n\u001b[1;32m   1891\u001b[0m f \u001b[38;5;241m=\u001b[39m \u001b[38;5;28mself\u001b[39m\u001b[38;5;241m.\u001b[39mhandles\u001b[38;5;241m.\u001b[39mhandle\n",
      "File \u001b[0;32m~/repo/SimpleProcessSim/.venv/lib/python3.11/site-packages/pandas/io/common.py:873\u001b[0m, in \u001b[0;36mget_handle\u001b[0;34m(path_or_buf, mode, encoding, compression, memory_map, is_text, errors, storage_options)\u001b[0m\n\u001b[1;32m    868\u001b[0m \u001b[38;5;28;01melif\u001b[39;00m \u001b[38;5;28misinstance\u001b[39m(handle, \u001b[38;5;28mstr\u001b[39m):\n\u001b[1;32m    869\u001b[0m     \u001b[38;5;66;03m# Check whether the filename is to be opened in binary mode.\u001b[39;00m\n\u001b[1;32m    870\u001b[0m     \u001b[38;5;66;03m# Binary mode does not support 'encoding' and 'newline'.\u001b[39;00m\n\u001b[1;32m    871\u001b[0m     \u001b[38;5;28;01mif\u001b[39;00m ioargs\u001b[38;5;241m.\u001b[39mencoding \u001b[38;5;129;01mand\u001b[39;00m \u001b[38;5;124m\"\u001b[39m\u001b[38;5;124mb\u001b[39m\u001b[38;5;124m\"\u001b[39m \u001b[38;5;129;01mnot\u001b[39;00m \u001b[38;5;129;01min\u001b[39;00m ioargs\u001b[38;5;241m.\u001b[39mmode:\n\u001b[1;32m    872\u001b[0m         \u001b[38;5;66;03m# Encoding\u001b[39;00m\n\u001b[0;32m--> 873\u001b[0m         handle \u001b[38;5;241m=\u001b[39m \u001b[38;5;28;43mopen\u001b[39;49m\u001b[43m(\u001b[49m\n\u001b[1;32m    874\u001b[0m \u001b[43m            \u001b[49m\u001b[43mhandle\u001b[49m\u001b[43m,\u001b[49m\n\u001b[1;32m    875\u001b[0m \u001b[43m            \u001b[49m\u001b[43mioargs\u001b[49m\u001b[38;5;241;43m.\u001b[39;49m\u001b[43mmode\u001b[49m\u001b[43m,\u001b[49m\n\u001b[1;32m    876\u001b[0m \u001b[43m            \u001b[49m\u001b[43mencoding\u001b[49m\u001b[38;5;241;43m=\u001b[39;49m\u001b[43mioargs\u001b[49m\u001b[38;5;241;43m.\u001b[39;49m\u001b[43mencoding\u001b[49m\u001b[43m,\u001b[49m\n\u001b[1;32m    877\u001b[0m \u001b[43m            \u001b[49m\u001b[43merrors\u001b[49m\u001b[38;5;241;43m=\u001b[39;49m\u001b[43merrors\u001b[49m\u001b[43m,\u001b[49m\n\u001b[1;32m    878\u001b[0m \u001b[43m            \u001b[49m\u001b[43mnewline\u001b[49m\u001b[38;5;241;43m=\u001b[39;49m\u001b[38;5;124;43m\"\u001b[39;49m\u001b[38;5;124;43m\"\u001b[39;49m\u001b[43m,\u001b[49m\n\u001b[1;32m    879\u001b[0m \u001b[43m        \u001b[49m\u001b[43m)\u001b[49m\n\u001b[1;32m    880\u001b[0m     \u001b[38;5;28;01melse\u001b[39;00m:\n\u001b[1;32m    881\u001b[0m         \u001b[38;5;66;03m# Binary mode\u001b[39;00m\n\u001b[1;32m    882\u001b[0m         handle \u001b[38;5;241m=\u001b[39m \u001b[38;5;28mopen\u001b[39m(handle, ioargs\u001b[38;5;241m.\u001b[39mmode)\n",
      "\u001b[0;31mFileNotFoundError\u001b[0m: [Errno 2] No such file or directory: 'feedbacks.csv'"
     ]
    }
   ],
   "source": [
    "import pandas as pd\n",
    " \n",
    "# load the csv file containing the feedbacks into a pandas dataframe and format/parse the columns\n",
    "df = pd.read_csv(\"../ProcessSimulator/feedbacks.csv\", sep=\";\", header=0)\n",
    "df['Actual Start'] = pd.to_datetime(df['Actual Start'], format='%d.%m.%Y %H:%M:%S')\n",
    "df['Actual End'] = pd.to_datetime(df['Actual End'], format='%d.%m.%Y %H:%M:%S')\n",
    "df['Planned Start'] = pd.to_datetime(df['Planned Start'], format='%d.%m.%Y %H:%M:%S')\n",
    "df['Planned Finish'] = pd.to_datetime(df['Planned Finish'], format='%d.%m.%Y %H:%M:%S')\n",
    "df['CurrentTime'] = pd.to_datetime(df['CurrentTime'], format='%d.%m.%Y %H:%M:%S')\n",
    "df['Shift'] = df['Shift'].astype('category')\n",
    "df['Temperature'] = df['Temperature'].str.replace(',', '.').astype(float)\n",
    "df['TimeSinceLastInterrupt'] = pd.to_timedelta(df['TimeSinceLastInterrupt']).dt.total_seconds() / (60 * 60 * 24)\n",
    "\n",
    "# create a new dataframe with only the columns we need\n",
    "data = df[['Temperature', 'TimeSinceLastInterrupt', 'Shift']]\n",
    "data['DurationFactor'] = (df['Actual End'] - df['Actual Start']) / (df['Planned Finish'] - df['Planned Start'])\n",
    "data['IsWorkingDay'] = df['CurrentTime'].dt.dayofweek < 5\n",
    "\n",
    "# print the columns of the dataframe and their data types\n",
    "print(data.dtypes)"
   ]
  },
  {
   "cell_type": "code",
   "execution_count": 97,
   "metadata": {},
   "outputs": [
    {
     "name": "stdout",
     "output_type": "stream",
     "text": [
      "Temperature               category\n",
      "TimeSinceLastInterrupt    category\n",
      "Shift                     category\n",
      "DurationFactor             float64\n",
      "IsWorkingDay                  bool\n",
      "dtype: object\n"
     ]
    },
    {
     "name": "stderr",
     "output_type": "stream",
     "text": [
      "C:\\Users\\vasco\\AppData\\Local\\Temp\\ipykernel_24984\\3575455500.py:4: SettingWithCopyWarning: \n",
      "A value is trying to be set on a copy of a slice from a DataFrame.\n",
      "Try using .loc[row_indexer,col_indexer] = value instead\n",
      "\n",
      "See the caveats in the documentation: https://pandas.pydata.org/pandas-docs/stable/user_guide/indexing.html#returning-a-view-versus-a-copy\n",
      "  data['Temperature'] = pd.cut(data['Temperature'], bins=temperature_bins, labels=temperature_labels)\n",
      "C:\\Users\\vasco\\AppData\\Local\\Temp\\ipykernel_24984\\3575455500.py:9: SettingWithCopyWarning: \n",
      "A value is trying to be set on a copy of a slice from a DataFrame.\n",
      "Try using .loc[row_indexer,col_indexer] = value instead\n",
      "\n",
      "See the caveats in the documentation: https://pandas.pydata.org/pandas-docs/stable/user_guide/indexing.html#returning-a-view-versus-a-copy\n",
      "  data['TimeSinceLastInterrupt'] = pd.cut(data['TimeSinceLastInterrupt'], bins=days_bins, labels=days_labels)\n"
     ]
    }
   ],
   "source": [
    "# Discretize Temperature column\n",
    "temperature_bins = [float('-inf'), 19, 21, float('inf')]\n",
    "temperature_labels = ['<19', '19-21', '>21']\n",
    "data['Temperature'] = pd.cut(data['Temperature'], bins=temperature_bins, labels=temperature_labels)\n",
    "\n",
    "# Discretize DaysSinceLastInterrupt column\n",
    "days_bins = [float('-inf'), 3.5, 4.5, 5, float('inf')]\n",
    "days_labels = ['<3.5', '3.5-4.5', '4.5-5', '>5']\n",
    "data['TimeSinceLastInterrupt'] = pd.cut(data['TimeSinceLastInterrupt'], bins=days_bins, labels=days_labels)\n",
    "print(data.dtypes)"
   ]
  },
  {
   "cell_type": "code",
   "execution_count": 98,
   "metadata": {},
   "outputs": [],
   "source": [
    "from pgmpy.estimators import ExhaustiveSearch\n",
    "from pgmpy.models import BayesianNetwork\n",
    "\n",
    "actual_model = BayesianNetwork(\n",
    "    [\n",
    "        ('Temperature', 'DurationFactor'),\n",
    "        ('IsWorkingDay', 'DurationFactor'),\n",
    "        ('TimeSinceLastInterrupt', 'DurationFactor'),\n",
    "        ('Shift', 'DurationFactor')\n",
    "    ]\n",
    ")\n"
   ]
  },
  {
   "cell_type": "code",
   "execution_count": 99,
   "metadata": {},
   "outputs": [],
   "source": [
    "import warnings\n",
    "warnings.filterwarnings('ignore', message=r'overflow encountered')"
   ]
  },
  {
   "cell_type": "code",
   "execution_count": 100,
   "metadata": {},
   "outputs": [],
   "source": [
    "from pgmpy.estimators import BDeuScore\n",
    "\n",
    "bdeu = BDeuScore(data)\n",
    "\n",
    "es_bdeu = ExhaustiveSearch(data, scoring_method=bdeu)\n",
    "\n",
    "scores_bdeu = list(es_bdeu.all_scores())"
   ]
  },
  {
   "cell_type": "code",
   "execution_count": 101,
   "metadata": {},
   "outputs": [
    {
     "name": "stdout",
     "output_type": "stream",
     "text": [
      "Best 5 DAGs by score:\n",
      "-20212.264642586415 [('DurationFactor', 'TimeSinceLastInterrupt'), ('IsWorkingDay', 'TimeSinceLastInterrupt'), ('IsWorkingDay', 'DurationFactor'), ('Temperature', 'TimeSinceLastInterrupt'), ('Temperature', 'DurationFactor'), ('Temperature', 'Shift'), ('Shift', 'DurationFactor')]\n",
      "-20212.26464258642 [('DurationFactor', 'TimeSinceLastInterrupt'), ('IsWorkingDay', 'TimeSinceLastInterrupt'), ('IsWorkingDay', 'DurationFactor'), ('Shift', 'Temperature'), ('Shift', 'DurationFactor'), ('Temperature', 'TimeSinceLastInterrupt'), ('Temperature', 'DurationFactor')]\n",
      "-20215.012277786547 [('IsWorkingDay', 'TimeSinceLastInterrupt'), ('IsWorkingDay', 'DurationFactor'), ('TimeSinceLastInterrupt', 'DurationFactor'), ('TimeSinceLastInterrupt', 'Temperature'), ('Shift', 'Temperature'), ('Shift', 'TimeSinceLastInterrupt'), ('Shift', 'DurationFactor'), ('Temperature', 'DurationFactor')]\n",
      "-20215.527096402628 [('DurationFactor', 'TimeSinceLastInterrupt'), ('IsWorkingDay', 'TimeSinceLastInterrupt'), ('IsWorkingDay', 'DurationFactor'), ('Temperature', 'TimeSinceLastInterrupt'), ('Temperature', 'DurationFactor'), ('Temperature', 'Shift'), ('Shift', 'DurationFactor'), ('Shift', 'IsWorkingDay')]\n",
      "-20215.527096402628 [('DurationFactor', 'TimeSinceLastInterrupt'), ('IsWorkingDay', 'TimeSinceLastInterrupt'), ('IsWorkingDay', 'DurationFactor'), ('Shift', 'Temperature'), ('Shift', 'DurationFactor'), ('Shift', 'IsWorkingDay'), ('Temperature', 'TimeSinceLastInterrupt'), ('Temperature', 'DurationFactor')]\n",
      "Worst 5 DAGs by score:\n",
      "-33898.21289815683 [('Shift', 'IsWorkingDay'), ('Temperature', 'IsWorkingDay')]\n",
      "-33898.13062166656 [('IsWorkingDay', 'Shift'), ('IsWorkingDay', 'Temperature')]\n",
      "-33898.13062166656 [('IsWorkingDay', 'Shift'), ('Temperature', 'IsWorkingDay')]\n",
      "-33898.13062166656 [('IsWorkingDay', 'Temperature'), ('Shift', 'IsWorkingDay')]\n",
      "-33894.868167850356 [('Temperature', 'IsWorkingDay')]\n",
      "\n",
      "Best model: \n",
      "('DurationFactor', 'TimeSinceLastInterrupt')\n",
      "('IsWorkingDay', 'TimeSinceLastInterrupt')\n",
      "('IsWorkingDay', 'DurationFactor')\n",
      "('Temperature', 'TimeSinceLastInterrupt')\n",
      "('Temperature', 'DurationFactor')\n",
      "('Temperature', 'Shift')\n",
      "('Shift', 'DurationFactor')\n",
      "\n",
      "Score of best model:  -20212.264642586415\n",
      "Score of actual model:  -24165.835875112036\n"
     ]
    }
   ],
   "source": [
    "print(\"Best 5 DAGs by score:\")\n",
    "for score, dag in reversed(scores_bdeu[-5:]):\n",
    "    print(score, dag.edges())\n",
    "    \n",
    "print(\"Worst 5 DAGs by score:\")\n",
    "for score, dag in scores_bdeu[:5]:\n",
    "    print(score, dag.edges())\n",
    "\n",
    "\n",
    "print(\"\\nBest model: \")\n",
    "best_model = scores_bdeu[-1][1]\n",
    "\n",
    "[print(x) for x in list(best_model.edges())]\n",
    "\n",
    "print(\"\\nScore of best model: \", bdeu.score(best_model))\n",
    "print(\"Score of actual model: \", bdeu.score(actual_model))"
   ]
  },
  {
   "cell_type": "code",
   "execution_count": 102,
   "metadata": {},
   "outputs": [],
   "source": [
    "from pgmpy.estimators import K2Score\n",
    "\n",
    "k2 = K2Score(data)\n",
    "\n",
    "es_k2 = ExhaustiveSearch(data, scoring_method=k2)\n",
    "\n",
    "scores_k2 = list(es_k2.all_scores())"
   ]
  },
  {
   "cell_type": "code",
   "execution_count": 103,
   "metadata": {},
   "outputs": [
    {
     "name": "stdout",
     "output_type": "stream",
     "text": [
      "Best 5 DAGs by score:\n",
      "-20489.87911579811 [('DurationFactor', 'IsWorkingDay'), ('DurationFactor', 'Shift'), ('DurationFactor', 'Temperature'), ('DurationFactor', 'TimeSinceLastInterrupt'), ('Shift', 'IsWorkingDay'), ('Temperature', 'IsWorkingDay'), ('Temperature', 'Shift'), ('TimeSinceLastInterrupt', 'IsWorkingDay'), ('TimeSinceLastInterrupt', 'Shift'), ('TimeSinceLastInterrupt', 'Temperature')]\n",
      "-20492.56515688797 [('DurationFactor', 'IsWorkingDay'), ('DurationFactor', 'Shift'), ('DurationFactor', 'Temperature'), ('DurationFactor', 'TimeSinceLastInterrupt'), ('Shift', 'IsWorkingDay'), ('Temperature', 'TimeSinceLastInterrupt'), ('Temperature', 'IsWorkingDay'), ('Temperature', 'Shift'), ('TimeSinceLastInterrupt', 'IsWorkingDay'), ('TimeSinceLastInterrupt', 'Shift')]\n",
      "-20492.60377767089 [('DurationFactor', 'IsWorkingDay'), ('DurationFactor', 'Shift'), ('DurationFactor', 'Temperature'), ('DurationFactor', 'TimeSinceLastInterrupt'), ('IsWorkingDay', 'Shift'), ('Temperature', 'IsWorkingDay'), ('Temperature', 'Shift'), ('TimeSinceLastInterrupt', 'IsWorkingDay'), ('TimeSinceLastInterrupt', 'Temperature')]\n",
      "-20493.873084164545 [('DurationFactor', 'IsWorkingDay'), ('DurationFactor', 'Shift'), ('DurationFactor', 'Temperature'), ('DurationFactor', 'TimeSinceLastInterrupt'), ('IsWorkingDay', 'Shift'), ('Temperature', 'IsWorkingDay'), ('Temperature', 'Shift'), ('TimeSinceLastInterrupt', 'IsWorkingDay'), ('TimeSinceLastInterrupt', 'Shift'), ('TimeSinceLastInterrupt', 'Temperature')]\n",
      "-20495.28981876075 [('DurationFactor', 'IsWorkingDay'), ('DurationFactor', 'Shift'), ('DurationFactor', 'Temperature'), ('DurationFactor', 'TimeSinceLastInterrupt'), ('IsWorkingDay', 'Shift'), ('Temperature', 'TimeSinceLastInterrupt'), ('Temperature', 'IsWorkingDay'), ('Temperature', 'Shift'), ('TimeSinceLastInterrupt', 'IsWorkingDay')]\n",
      "Worst 5 DAGs by score:\n",
      "-34023.55536766194 [('IsWorkingDay', 'Shift'), ('Temperature', 'IsWorkingDay')]\n",
      "-34023.15534084302 [('IsWorkingDay', 'Temperature'), ('Shift', 'IsWorkingDay')]\n",
      "-34022.92447257077 [('IsWorkingDay', 'Shift'), ('IsWorkingDay', 'Temperature')]\n",
      "-34022.73686150967 [('Shift', 'IsWorkingDay'), ('Temperature', 'IsWorkingDay')]\n",
      "-34020.135483847065 [('Temperature', 'IsWorkingDay')]\n",
      "\n",
      "Best model: \n",
      "('DurationFactor', 'IsWorkingDay')\n",
      "('DurationFactor', 'Shift')\n",
      "('DurationFactor', 'Temperature')\n",
      "('DurationFactor', 'TimeSinceLastInterrupt')\n",
      "('Shift', 'IsWorkingDay')\n",
      "('Temperature', 'IsWorkingDay')\n",
      "('Temperature', 'Shift')\n",
      "('TimeSinceLastInterrupt', 'IsWorkingDay')\n",
      "('TimeSinceLastInterrupt', 'Shift')\n",
      "('TimeSinceLastInterrupt', 'Temperature')\n",
      "\n",
      "Score of best model:  -20489.87911579811\n",
      "Score of actual model:  -26215.408206268672\n"
     ]
    }
   ],
   "source": [
    "print(\"Best 5 DAGs by score:\")\n",
    "for score, dag in reversed(scores_k2[-5:]):\n",
    "    print(score, dag.edges())\n",
    "    \n",
    "print(\"Worst 5 DAGs by score:\")\n",
    "for score, dag in scores_k2[:5]:\n",
    "    print(score, dag.edges())\n",
    "\n",
    "\n",
    "print(\"\\nBest model: \")\n",
    "best_model = scores_k2[-1][1]\n",
    "\n",
    "[print(x) for x in list(best_model.edges())]\n",
    "\n",
    "print(\"\\nScore of best model: \", k2.score(best_model))\n",
    "print(\"Score of actual model: \", k2.score(actual_model))"
   ]
  },
  {
   "cell_type": "code",
   "execution_count": 104,
   "metadata": {},
   "outputs": [],
   "source": [
    "from pgmpy.estimators import BicScore\n",
    "\n",
    "bic = BicScore(data)\n",
    "\n",
    "es_bic = ExhaustiveSearch(data, scoring_method=bic)\n",
    "\n",
    "scores_bic = list(es_bic.all_scores())"
   ]
  },
  {
   "cell_type": "code",
   "execution_count": 105,
   "metadata": {},
   "outputs": [
    {
     "name": "stdout",
     "output_type": "stream",
     "text": [
      "Best 5 DAGs by score:\n",
      "-23959.218402563114 [('DurationFactor', 'TimeSinceLastInterrupt'), ('IsWorkingDay', 'DurationFactor'), ('Temperature', 'DurationFactor'), ('Temperature', 'Shift')]\n",
      "-23959.218402563114 [('DurationFactor', 'TimeSinceLastInterrupt'), ('Shift', 'Temperature'), ('Temperature', 'DurationFactor'), ('IsWorkingDay', 'DurationFactor')]\n",
      "-23963.672310066428 [('DurationFactor', 'TimeSinceLastInterrupt'), ('Shift', 'Temperature'), ('Shift', 'IsWorkingDay'), ('Temperature', 'DurationFactor'), ('IsWorkingDay', 'DurationFactor')]\n",
      "-23963.67231006643 [('DurationFactor', 'TimeSinceLastInterrupt'), ('IsWorkingDay', 'DurationFactor'), ('Temperature', 'DurationFactor'), ('Temperature', 'Shift'), ('Shift', 'IsWorkingDay')]\n",
      "-23963.67231006643 [('DurationFactor', 'TimeSinceLastInterrupt'), ('IsWorkingDay', 'Shift'), ('IsWorkingDay', 'DurationFactor'), ('Shift', 'Temperature'), ('Temperature', 'DurationFactor')]\n",
      "Worst 5 DAGs by score:\n",
      "-39558.25233927849 [('DurationFactor', 'TimeSinceLastInterrupt'), ('IsWorkingDay', 'TimeSinceLastInterrupt'), ('Shift', 'TimeSinceLastInterrupt'), ('Shift', 'IsWorkingDay'), ('Temperature', 'TimeSinceLastInterrupt'), ('Temperature', 'IsWorkingDay')]\n",
      "-39549.751353925676 [('DurationFactor', 'TimeSinceLastInterrupt'), ('IsWorkingDay', 'Shift'), ('IsWorkingDay', 'Temperature'), ('IsWorkingDay', 'TimeSinceLastInterrupt'), ('Shift', 'TimeSinceLastInterrupt'), ('Temperature', 'TimeSinceLastInterrupt')]\n",
      "-39549.751353925676 [('DurationFactor', 'TimeSinceLastInterrupt'), ('IsWorkingDay', 'Shift'), ('IsWorkingDay', 'TimeSinceLastInterrupt'), ('Shift', 'TimeSinceLastInterrupt'), ('Temperature', 'TimeSinceLastInterrupt'), ('Temperature', 'IsWorkingDay')]\n",
      "-39549.751353925676 [('DurationFactor', 'TimeSinceLastInterrupt'), ('IsWorkingDay', 'Temperature'), ('IsWorkingDay', 'TimeSinceLastInterrupt'), ('Temperature', 'TimeSinceLastInterrupt'), ('Shift', 'TimeSinceLastInterrupt'), ('Shift', 'IsWorkingDay')]\n",
      "-39545.297446422366 [('DurationFactor', 'TimeSinceLastInterrupt'), ('IsWorkingDay', 'TimeSinceLastInterrupt'), ('Shift', 'TimeSinceLastInterrupt'), ('Temperature', 'TimeSinceLastInterrupt'), ('Temperature', 'IsWorkingDay')]\n",
      "\n",
      "Best model: \n",
      "('DurationFactor', 'TimeSinceLastInterrupt')\n",
      "('IsWorkingDay', 'DurationFactor')\n",
      "('Temperature', 'DurationFactor')\n",
      "('Temperature', 'Shift')\n",
      "\n",
      "Score of best model:  -23959.218402563114\n",
      "Score of actual model:  -35025.79632000179\n"
     ]
    }
   ],
   "source": [
    "print(\"Best 5 DAGs by score:\")\n",
    "for score, dag in reversed(scores_bic[-5:]):\n",
    "    print(score, dag.edges())\n",
    "    \n",
    "print(\"Worst 5 DAGs by score:\")\n",
    "for score, dag in scores_bic[:5]:\n",
    "    print(score, dag.edges())\n",
    "\n",
    "\n",
    "print(\"\\nBest model: \")\n",
    "best_model = scores_bic[-1][1]\n",
    "\n",
    "[print(x) for x in list(best_model.edges())]\n",
    "\n",
    "print(\"\\nScore of best model: \", bic.score(best_model))\n",
    "print(\"Score of actual model: \", bic.score(actual_model))"
   ]
  }
 ],
 "metadata": {
  "kernelspec": {
   "display_name": "Python 3",
   "language": "python",
   "name": "python3"
  },
  "language_info": {
   "codemirror_mode": {
    "name": "ipython",
    "version": 3
   },
   "file_extension": ".py",
   "mimetype": "text/x-python",
   "name": "python",
   "nbconvert_exporter": "python",
   "pygments_lexer": "ipython3",
   "version": "3.11.9"
  },
  "orig_nbformat": 4
 },
 "nbformat": 4,
 "nbformat_minor": 2
}
