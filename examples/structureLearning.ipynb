{
 "cells": [
  {
   "cell_type": "code",
   "execution_count": 96,
   "metadata": {},
   "outputs": [
    {
     "name": "stdout",
     "output_type": "stream",
     "text": [
      "Temperature                float64\n",
      "TimeSinceLastInterrupt     float64\n",
      "Shift                     category\n",
      "DurationFactor             float64\n",
      "IsWorkingDay                  bool\n",
      "dtype: object\n"
     ]
    },
    {
     "name": "stderr",
     "output_type": "stream",
     "text": [
      "C:\\Users\\vasco\\AppData\\Local\\Temp\\ipykernel_24984\\3576161568.py:18: SettingWithCopyWarning: \n",
      "A value is trying to be set on a copy of a slice from a DataFrame.\n",
      "Try using .loc[row_indexer,col_indexer] = value instead\n",
      "\n",
      "See the caveats in the documentation: https://pandas.pydata.org/pandas-docs/stable/user_guide/indexing.html#returning-a-view-versus-a-copy\n",
      "  data['DurationFactor'] = (df['Actual End'] - df['Actual Start']) / (df['Planned Finish'] - df['Planned Start'])\n",
      "C:\\Users\\vasco\\AppData\\Local\\Temp\\ipykernel_24984\\3576161568.py:19: SettingWithCopyWarning: \n",
      "A value is trying to be set on a copy of a slice from a DataFrame.\n",
      "Try using .loc[row_indexer,col_indexer] = value instead\n",
      "\n",
      "See the caveats in the documentation: https://pandas.pydata.org/pandas-docs/stable/user_guide/indexing.html#returning-a-view-versus-a-copy\n",
      "  data['IsWorkingDay'] = df['CurrentTime'].dt.dayofweek < 5\n"
     ]
    }
   ],
   "source": [
    "import pandas as pd\n",
    " \n",
    "# load the csv file containing the feedbacks into a pandas dataframe and format/parse the columns\n",
    "df = pd.read_csv(\"feedbacks.csv\", sep=\";\", header=0)\n",
    "df['Actual Start'] = pd.to_datetime(df['Actual Start'], format='%d.%m.%Y %H:%M:%S')\n",
    "df['Actual End'] = pd.to_datetime(df['Actual End'], format='%d.%m.%Y %H:%M:%S')\n",
    "df['Planned Start'] = pd.to_datetime(df['Planned Start'], format='%d.%m.%Y %H:%M:%S')\n",
    "df['Planned Finish'] = pd.to_datetime(df['Planned Finish'], format='%d.%m.%Y %H:%M:%S')\n",
    "df['CurrentTime'] = pd.to_datetime(df['CurrentTime'], format='%d.%m.%Y %H:%M:%S')\n",
    "df['Shift'] = df['Shift'].astype('category')\n",
    "df['Temperature'] = df['Temperature'].str.replace(',', '.').astype(float)\n",
    "df['TimeSinceLastInterrupt'] = pd.to_timedelta(df['TimeSinceLastInterrupt']).dt.total_seconds() / (60 * 60 * 24)\n",
    "\n",
    "# create a new dataframe with only the columns we need\n",
    "data = df[['Temperature', 'TimeSinceLastInterrupt', 'Shift']]\n",
    "data['DurationFactor'] = (df['Actual End'] - df['Actual Start']) / (df['Planned Finish'] - df['Planned Start'])\n",
    "data['IsWorkingDay'] = df['CurrentTime'].dt.dayofweek < 5\n",
    "\n",
    "# print the columns of the dataframe and their data types\n",
    "print(data.dtypes)"
   ]
  },
  {
   "cell_type": "code",
   "execution_count": 97,
   "metadata": {},
   "outputs": [
    {
     "name": "stdout",
     "output_type": "stream",
     "text": [
      "Temperature               category\n",
      "TimeSinceLastInterrupt    category\n",
      "Shift                     category\n",
      "DurationFactor             float64\n",
      "IsWorkingDay                  bool\n",
      "dtype: object\n"
     ]
    },
    {
     "name": "stderr",
     "output_type": "stream",
     "text": [
      "C:\\Users\\vasco\\AppData\\Local\\Temp\\ipykernel_24984\\3575455500.py:4: SettingWithCopyWarning: \n",
      "A value is trying to be set on a copy of a slice from a DataFrame.\n",
      "Try using .loc[row_indexer,col_indexer] = value instead\n",
      "\n",
      "See the caveats in the documentation: https://pandas.pydata.org/pandas-docs/stable/user_guide/indexing.html#returning-a-view-versus-a-copy\n",
      "  data['Temperature'] = pd.cut(data['Temperature'], bins=temperature_bins, labels=temperature_labels)\n",
      "C:\\Users\\vasco\\AppData\\Local\\Temp\\ipykernel_24984\\3575455500.py:9: SettingWithCopyWarning: \n",
      "A value is trying to be set on a copy of a slice from a DataFrame.\n",
      "Try using .loc[row_indexer,col_indexer] = value instead\n",
      "\n",
      "See the caveats in the documentation: https://pandas.pydata.org/pandas-docs/stable/user_guide/indexing.html#returning-a-view-versus-a-copy\n",
      "  data['TimeSinceLastInterrupt'] = pd.cut(data['TimeSinceLastInterrupt'], bins=days_bins, labels=days_labels)\n"
     ]
    }
   ],
   "source": [
    "# Discretize Temperature column\n",
    "temperature_bins = [float('-inf'), 19, 21, float('inf')]\n",
    "temperature_labels = ['<19', '19-21', '>21']\n",
    "data['Temperature'] = pd.cut(data['Temperature'], bins=temperature_bins, labels=temperature_labels)\n",
    "\n",
    "# Discretize DaysSinceLastInterrupt column\n",
    "days_bins = [float('-inf'), 3.5, 4.5, 5, float('inf')]\n",
    "days_labels = ['<3.5', '3.5-4.5', '4.5-5', '>5']\n",
    "data['TimeSinceLastInterrupt'] = pd.cut(data['TimeSinceLastInterrupt'], bins=days_bins, labels=days_labels)\n",
    "print(data.dtypes)"
   ]
  },
  {
   "cell_type": "code",
   "execution_count": 98,
   "metadata": {},
   "outputs": [],
   "source": [
    "from pgmpy.estimators import ExhaustiveSearch\n",
    "from pgmpy.models import BayesianNetwork\n",
    "\n",
    "actual_model = BayesianNetwork(\n",
    "    [\n",
    "        ('Temperature', 'DurationFactor'),\n",
    "        ('IsWorkingDay', 'DurationFactor'),\n",
    "        ('TimeSinceLastInterrupt', 'DurationFactor'),\n",
    "        ('Shift', 'DurationFactor')\n",
    "    ]\n",
    ")\n"
   ]
  },
  {
   "cell_type": "code",
   "execution_count": 99,
   "metadata": {},
   "outputs": [],
   "source": [
    "import warnings\n",
    "warnings.filterwarnings('ignore', message=r'overflow encountered')"
   ]
  },
  {
   "cell_type": "code",
   "execution_count": 100,
   "metadata": {},
   "outputs": [],
   "source": [
    "from pgmpy.estimators import BDeuScore\n",
    "\n",
    "bdeu = BDeuScore(data)\n",
    "\n",
    "es_bdeu = ExhaustiveSearch(data, scoring_method=bdeu)\n",
    "\n",
    "scores_bdeu = list(es_bdeu.all_scores())"
   ]
  },
  {
   "cell_type": "code",
   "execution_count": 101,
   "metadata": {},
   "outputs": [
    {
     "name": "stdout",
     "output_type": "stream",
     "text": [
      "Best 5 DAGs by score:\n",
      "-20212.264642586415 [('DurationFactor', 'TimeSinceLastInterrupt'), ('IsWorkingDay', 'TimeSinceLastInterrupt'), ('IsWorkingDay', 'DurationFactor'), ('Temperature', 'TimeSinceLastInterrupt'), ('Temperature', 'DurationFactor'), ('Temperature', 'Shift'), ('Shift', 'DurationFactor')]\n",
      "-20212.26464258642 [('DurationFactor', 'TimeSinceLastInterrupt'), ('IsWorkingDay', 'TimeSinceLastInterrupt'), ('IsWorkingDay', 'DurationFactor'), ('Shift', 'Temperature'), ('Shift', 'DurationFactor'), ('Temperature', 'TimeSinceLastInterrupt'), ('Temperature', 'DurationFactor')]\n",
      "-20215.012277786547 [('IsWorkingDay', 'TimeSinceLastInterrupt'), ('IsWorkingDay', 'DurationFactor'), ('TimeSinceLastInterrupt', 'DurationFactor'), ('TimeSinceLastInterrupt', 'Temperature'), ('Shift', 'Temperature'), ('Shift', 'TimeSinceLastInterrupt'), ('Shift', 'DurationFactor'), ('Temperature', 'DurationFactor')]\n",
      "-20215.527096402628 [('DurationFactor', 'TimeSinceLastInterrupt'), ('IsWorkingDay', 'TimeSinceLastInterrupt'), ('IsWorkingDay', 'DurationFactor'), ('Temperature', 'TimeSinceLastInterrupt'), ('Temperature', 'DurationFactor'), ('Temperature', 'Shift'), ('Shift', 'DurationFactor'), ('Shift', 'IsWorkingDay')]\n",
      "-20215.527096402628 [('DurationFactor', 'TimeSinceLastInterrupt'), ('IsWorkingDay', 'TimeSinceLastInterrupt'), ('IsWorkingDay', 'DurationFactor'), ('Shift', 'Temperature'), ('Shift', 'DurationFactor'), ('Shift', 'IsWorkingDay'), ('Temperature', 'TimeSinceLastInterrupt'), ('Temperature', 'DurationFactor')]\n",
      "Worst 5 DAGs by score:\n",
      "-33898.21289815683 [('Shift', 'IsWorkingDay'), ('Temperature', 'IsWorkingDay')]\n",
      "-33898.13062166656 [('IsWorkingDay', 'Shift'), ('IsWorkingDay', 'Temperature')]\n",
      "-33898.13062166656 [('IsWorkingDay', 'Shift'), ('Temperature', 'IsWorkingDay')]\n",
      "-33898.13062166656 [('IsWorkingDay', 'Temperature'), ('Shift', 'IsWorkingDay')]\n",
      "-33894.868167850356 [('Temperature', 'IsWorkingDay')]\n",
      "\n",
      "Best model: \n",
      "('DurationFactor', 'TimeSinceLastInterrupt')\n",
      "('IsWorkingDay', 'TimeSinceLastInterrupt')\n",
      "('IsWorkingDay', 'DurationFactor')\n",
      "('Temperature', 'TimeSinceLastInterrupt')\n",
      "('Temperature', 'DurationFactor')\n",
      "('Temperature', 'Shift')\n",
      "('Shift', 'DurationFactor')\n",
      "\n",
      "Score of best model:  -20212.264642586415\n",
      "Score of actual model:  -24165.835875112036\n"
     ]
    }
   ],
   "source": [
    "print(\"Best 5 DAGs by score:\")\n",
    "for score, dag in reversed(scores_bdeu[-5:]):\n",
    "    print(score, dag.edges())\n",
    "    \n",
    "print(\"Worst 5 DAGs by score:\")\n",
    "for score, dag in scores_bdeu[:5]:\n",
    "    print(score, dag.edges())\n",
    "\n",
    "\n",
    "print(\"\\nBest model: \")\n",
    "best_model = scores_bdeu[-1][1]\n",
    "\n",
    "[print(x) for x in list(best_model.edges())]\n",
    "\n",
    "print(\"\\nScore of best model: \", bdeu.score(best_model))\n",
    "print(\"Score of actual model: \", bdeu.score(actual_model))"
   ]
  },
  {
   "cell_type": "code",
   "execution_count": 102,
   "metadata": {},
   "outputs": [],
   "source": [
    "from pgmpy.estimators import K2Score\n",
    "\n",
    "k2 = K2Score(data)\n",
    "\n",
    "es_k2 = ExhaustiveSearch(data, scoring_method=k2)\n",
    "\n",
    "scores_k2 = list(es_k2.all_scores())"
   ]
  },
  {
   "cell_type": "code",
   "execution_count": 103,
   "metadata": {},
   "outputs": [
    {
     "name": "stdout",
     "output_type": "stream",
     "text": [
      "Best 5 DAGs by score:\n",
      "-20489.87911579811 [('DurationFactor', 'IsWorkingDay'), ('DurationFactor', 'Shift'), ('DurationFactor', 'Temperature'), ('DurationFactor', 'TimeSinceLastInterrupt'), ('Shift', 'IsWorkingDay'), ('Temperature', 'IsWorkingDay'), ('Temperature', 'Shift'), ('TimeSinceLastInterrupt', 'IsWorkingDay'), ('TimeSinceLastInterrupt', 'Shift'), ('TimeSinceLastInterrupt', 'Temperature')]\n",
      "-20492.56515688797 [('DurationFactor', 'IsWorkingDay'), ('DurationFactor', 'Shift'), ('DurationFactor', 'Temperature'), ('DurationFactor', 'TimeSinceLastInterrupt'), ('Shift', 'IsWorkingDay'), ('Temperature', 'TimeSinceLastInterrupt'), ('Temperature', 'IsWorkingDay'), ('Temperature', 'Shift'), ('TimeSinceLastInterrupt', 'IsWorkingDay'), ('TimeSinceLastInterrupt', 'Shift')]\n",
      "-20492.60377767089 [('DurationFactor', 'IsWorkingDay'), ('DurationFactor', 'Shift'), ('DurationFactor', 'Temperature'), ('DurationFactor', 'TimeSinceLastInterrupt'), ('IsWorkingDay', 'Shift'), ('Temperature', 'IsWorkingDay'), ('Temperature', 'Shift'), ('TimeSinceLastInterrupt', 'IsWorkingDay'), ('TimeSinceLastInterrupt', 'Temperature')]\n",
      "-20493.873084164545 [('DurationFactor', 'IsWorkingDay'), ('DurationFactor', 'Shift'), ('DurationFactor', 'Temperature'), ('DurationFactor', 'TimeSinceLastInterrupt'), ('IsWorkingDay', 'Shift'), ('Temperature', 'IsWorkingDay'), ('Temperature', 'Shift'), ('TimeSinceLastInterrupt', 'IsWorkingDay'), ('TimeSinceLastInterrupt', 'Shift'), ('TimeSinceLastInterrupt', 'Temperature')]\n",
      "-20495.28981876075 [('DurationFactor', 'IsWorkingDay'), ('DurationFactor', 'Shift'), ('DurationFactor', 'Temperature'), ('DurationFactor', 'TimeSinceLastInterrupt'), ('IsWorkingDay', 'Shift'), ('Temperature', 'TimeSinceLastInterrupt'), ('Temperature', 'IsWorkingDay'), ('Temperature', 'Shift'), ('TimeSinceLastInterrupt', 'IsWorkingDay')]\n",
      "Worst 5 DAGs by score:\n",
      "-34023.55536766194 [('IsWorkingDay', 'Shift'), ('Temperature', 'IsWorkingDay')]\n",
      "-34023.15534084302 [('IsWorkingDay', 'Temperature'), ('Shift', 'IsWorkingDay')]\n",
      "-34022.92447257077 [('IsWorkingDay', 'Shift'), ('IsWorkingDay', 'Temperature')]\n",
      "-34022.73686150967 [('Shift', 'IsWorkingDay'), ('Temperature', 'IsWorkingDay')]\n",
      "-34020.135483847065 [('Temperature', 'IsWorkingDay')]\n",
      "\n",
      "Best model: \n",
      "('DurationFactor', 'IsWorkingDay')\n",
      "('DurationFactor', 'Shift')\n",
      "('DurationFactor', 'Temperature')\n",
      "('DurationFactor', 'TimeSinceLastInterrupt')\n",
      "('Shift', 'IsWorkingDay')\n",
      "('Temperature', 'IsWorkingDay')\n",
      "('Temperature', 'Shift')\n",
      "('TimeSinceLastInterrupt', 'IsWorkingDay')\n",
      "('TimeSinceLastInterrupt', 'Shift')\n",
      "('TimeSinceLastInterrupt', 'Temperature')\n",
      "\n",
      "Score of best model:  -20489.87911579811\n",
      "Score of actual model:  -26215.408206268672\n"
     ]
    }
   ],
   "source": [
    "print(\"Best 5 DAGs by score:\")\n",
    "for score, dag in reversed(scores_k2[-5:]):\n",
    "    print(score, dag.edges())\n",
    "    \n",
    "print(\"Worst 5 DAGs by score:\")\n",
    "for score, dag in scores_k2[:5]:\n",
    "    print(score, dag.edges())\n",
    "\n",
    "\n",
    "print(\"\\nBest model: \")\n",
    "best_model = scores_k2[-1][1]\n",
    "\n",
    "[print(x) for x in list(best_model.edges())]\n",
    "\n",
    "print(\"\\nScore of best model: \", k2.score(best_model))\n",
    "print(\"Score of actual model: \", k2.score(actual_model))"
   ]
  },
  {
   "cell_type": "code",
   "execution_count": 104,
   "metadata": {},
   "outputs": [],
   "source": [
    "from pgmpy.estimators import BicScore\n",
    "\n",
    "bic = BicScore(data)\n",
    "\n",
    "es_bic = ExhaustiveSearch(data, scoring_method=bic)\n",
    "\n",
    "scores_bic = list(es_bic.all_scores())"
   ]
  },
  {
   "cell_type": "code",
   "execution_count": 105,
   "metadata": {},
   "outputs": [
    {
     "name": "stdout",
     "output_type": "stream",
     "text": [
      "Best 5 DAGs by score:\n",
      "-23959.218402563114 [('DurationFactor', 'TimeSinceLastInterrupt'), ('IsWorkingDay', 'DurationFactor'), ('Temperature', 'DurationFactor'), ('Temperature', 'Shift')]\n",
      "-23959.218402563114 [('DurationFactor', 'TimeSinceLastInterrupt'), ('Shift', 'Temperature'), ('Temperature', 'DurationFactor'), ('IsWorkingDay', 'DurationFactor')]\n",
      "-23963.672310066428 [('DurationFactor', 'TimeSinceLastInterrupt'), ('Shift', 'Temperature'), ('Shift', 'IsWorkingDay'), ('Temperature', 'DurationFactor'), ('IsWorkingDay', 'DurationFactor')]\n",
      "-23963.67231006643 [('DurationFactor', 'TimeSinceLastInterrupt'), ('IsWorkingDay', 'DurationFactor'), ('Temperature', 'DurationFactor'), ('Temperature', 'Shift'), ('Shift', 'IsWorkingDay')]\n",
      "-23963.67231006643 [('DurationFactor', 'TimeSinceLastInterrupt'), ('IsWorkingDay', 'Shift'), ('IsWorkingDay', 'DurationFactor'), ('Shift', 'Temperature'), ('Temperature', 'DurationFactor')]\n",
      "Worst 5 DAGs by score:\n",
      "-39558.25233927849 [('DurationFactor', 'TimeSinceLastInterrupt'), ('IsWorkingDay', 'TimeSinceLastInterrupt'), ('Shift', 'TimeSinceLastInterrupt'), ('Shift', 'IsWorkingDay'), ('Temperature', 'TimeSinceLastInterrupt'), ('Temperature', 'IsWorkingDay')]\n",
      "-39549.751353925676 [('DurationFactor', 'TimeSinceLastInterrupt'), ('IsWorkingDay', 'Shift'), ('IsWorkingDay', 'Temperature'), ('IsWorkingDay', 'TimeSinceLastInterrupt'), ('Shift', 'TimeSinceLastInterrupt'), ('Temperature', 'TimeSinceLastInterrupt')]\n",
      "-39549.751353925676 [('DurationFactor', 'TimeSinceLastInterrupt'), ('IsWorkingDay', 'Shift'), ('IsWorkingDay', 'TimeSinceLastInterrupt'), ('Shift', 'TimeSinceLastInterrupt'), ('Temperature', 'TimeSinceLastInterrupt'), ('Temperature', 'IsWorkingDay')]\n",
      "-39549.751353925676 [('DurationFactor', 'TimeSinceLastInterrupt'), ('IsWorkingDay', 'Temperature'), ('IsWorkingDay', 'TimeSinceLastInterrupt'), ('Temperature', 'TimeSinceLastInterrupt'), ('Shift', 'TimeSinceLastInterrupt'), ('Shift', 'IsWorkingDay')]\n",
      "-39545.297446422366 [('DurationFactor', 'TimeSinceLastInterrupt'), ('IsWorkingDay', 'TimeSinceLastInterrupt'), ('Shift', 'TimeSinceLastInterrupt'), ('Temperature', 'TimeSinceLastInterrupt'), ('Temperature', 'IsWorkingDay')]\n",
      "\n",
      "Best model: \n",
      "('DurationFactor', 'TimeSinceLastInterrupt')\n",
      "('IsWorkingDay', 'DurationFactor')\n",
      "('Temperature', 'DurationFactor')\n",
      "('Temperature', 'Shift')\n",
      "\n",
      "Score of best model:  -23959.218402563114\n",
      "Score of actual model:  -35025.79632000179\n"
     ]
    }
   ],
   "source": [
    "print(\"Best 5 DAGs by score:\")\n",
    "for score, dag in reversed(scores_bic[-5:]):\n",
    "    print(score, dag.edges())\n",
    "    \n",
    "print(\"Worst 5 DAGs by score:\")\n",
    "for score, dag in scores_bic[:5]:\n",
    "    print(score, dag.edges())\n",
    "\n",
    "\n",
    "print(\"\\nBest model: \")\n",
    "best_model = scores_bic[-1][1]\n",
    "\n",
    "[print(x) for x in list(best_model.edges())]\n",
    "\n",
    "print(\"\\nScore of best model: \", bic.score(best_model))\n",
    "print(\"Score of actual model: \", bic.score(actual_model))"
   ]
  }
 ],
 "metadata": {
  "kernelspec": {
   "display_name": "Python 3",
   "language": "python",
   "name": "python3"
  },
  "language_info": {
   "codemirror_mode": {
    "name": "ipython",
    "version": 3
   },
   "file_extension": ".py",
   "mimetype": "text/x-python",
   "name": "python",
   "nbconvert_exporter": "python",
   "pygments_lexer": "ipython3",
   "version": "3.11.2"
  },
  "orig_nbformat": 4
 },
 "nbformat": 4,
 "nbformat_minor": 2
}
