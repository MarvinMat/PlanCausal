{
 "cells": [
  {
   "cell_type": "code",
   "execution_count": 2,
   "metadata": {},
   "outputs": [
    {
     "name": "stderr",
     "output_type": "stream",
     "text": [
      "2024-07-12 12:52:48,751\tINFO util.py:154 -- Missing packages: ['ipywidgets']. Run `pip install -U ipywidgets`, then restart the notebook server for rich notebook output.\n"
     ]
    },
    {
     "name": "stdout",
     "output_type": "stream",
     "text": [
      "a: []\n",
      "b: ['c', 'a', 'd', 'f']\n",
      "c: ['b', 'f']\n",
      "d: ['g', 'b']\n",
      "e: ['f']\n",
      "f: ['c', 'b', 'e']\n",
      "g: ['d']\n",
      "Precision 0.64, Recall: 1.00, F1 score: 0.67\n"
     ]
    }
   ],
   "source": [
    "# Causal Discovery using PC algorithm on Tabular Data\n",
    "from causalai.models.tabular.pc import PCSingle, PC\n",
    "from causalai.models.common.CI_tests.partial_correlation import PartialCorrelation\n",
    "from causalai.data.data_generator import DataGenerator # for generating data randomly\n",
    "from causalai.models.common.prior_knowledge import PriorKnowledge\n",
    "from causalai.data.tabular import TabularData # tabular data object\n",
    "from causalai.data.transforms.time_series import StandardizeTransform\n",
    "\n",
    "#### Generate a ground truth causal graph and data radom using it, for illustration purposes\n",
    "fn = lambda x:x # non-linearity\n",
    "coef = 0.1\n",
    "# Structural equation model (SEM) defining the ground truth causal graph\n",
    "sem = {\n",
    "        'a': [], \n",
    "        'b': [('a', coef, fn), ('f', coef, fn)], # b = coef* fn(a) + coef* fn(f) + noise\n",
    "        'c': [('b', coef, fn), ('f', coef, fn)],\n",
    "        'd': [('b', coef, fn), ('g', coef, fn)],\n",
    "        'e': [('f', coef, fn)], \n",
    "        'f': [],\n",
    "        'g': [],\n",
    "        }\n",
    "T = 5000 # number of samples\n",
    "data_array, var_names, graph_gt = DataGenerator(sem, T=T, seed=0, discrete=False)\n",
    "# data_array is a (T x 7) NumPy array\n",
    "# var_names = ['a', 'b', 'c', 'd', 'e', 'f', 'g']\n",
    "# graph_gt is a Python dictionary\n",
    "\n",
    "### standardize data and create a CausalAI Tabular data object\n",
    "StandardizeTransform_ = StandardizeTransform()\n",
    "StandardizeTransform_.fit(data_array)\n",
    "data_trans = StandardizeTransform_.transform(data_array)\n",
    "data_obj = TabularData(data_trans, var_names=var_names)\n",
    "\n",
    "### Run PC algorithm\n",
    "\n",
    "# provide optional (use None) prior knowledge saying b->a is forbidden.\n",
    "prior_knowledge = PriorKnowledge(forbidden_links={'a': ['b']}) \n",
    "\n",
    "pvalue_thres = 0.01\n",
    "CI_test = PartialCorrelation() \n",
    "pc = PC(\n",
    "        data=data_obj,\n",
    "        prior_knowledge=prior_knowledge,\n",
    "        CI_test=CI_test,\n",
    "        use_multiprocessing=False\n",
    "        )\n",
    "result = pc.run(pvalue_thres=pvalue_thres, max_condition_set_size=2)\n",
    "\n",
    "# print estimated causal graph\n",
    "graph_est={n:[] for n in result.keys()}\n",
    "for key in result.keys():\n",
    "    parents = result[key]['parents']\n",
    "    graph_est[key].extend(parents)\n",
    "    print(f'{key}: {parents}')\n",
    "\n",
    "########### prints\n",
    "# a: []\n",
    "# b: ['d', 'a', 'c', 'f']\n",
    "# c: ['f', 'b']\n",
    "# d: ['g', 'b']\n",
    "# e: ['f']\n",
    "# f: ['e', 'b', 'c']\n",
    "# g: ['d']\n",
    "###########\n",
    "\n",
    "### Evaluate the estimated causal graph given we have ground truth in this case\n",
    "from causalai.misc.misc import plot_graph, get_precision_recall\n",
    "\n",
    "precision, recall, f1_score = get_precision_recall(graph_est, graph_gt)\n",
    "print(f'Precision {precision:.2f}, Recall: {recall:.2f}, F1 score: {f1_score:.2f}')\n",
    "# Precision 0.64, Recall: 1.00, F1 score: 0.67"
   ]
  }
 ],
 "metadata": {
  "kernelspec": {
   "display_name": ".venv",
   "language": "python",
   "name": "python3"
  },
  "language_info": {
   "codemirror_mode": {
    "name": "ipython",
    "version": 3
   },
   "file_extension": ".py",
   "mimetype": "text/x-python",
   "name": "python",
   "nbconvert_exporter": "python",
   "pygments_lexer": "ipython3",
   "version": "3.10.12"
  }
 },
 "nbformat": 4,
 "nbformat_minor": 2
}
