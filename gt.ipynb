{
 "cells": [
  {
   "cell_type": "markdown",
   "metadata": {},
   "source": [
    "### ToDo\n",
    "* changing resource state \n",
    "* changing setup for each op \n",
    "    * may not required as you have the current operation with the req setup\n",
    "    * and we do not consider setup times.\n",
    "* monitoring the basics"
   ]
  },
  {
   "cell_type": "code",
   "execution_count": 1,
   "metadata": {},
   "outputs": [
    {
     "name": "stdout",
     "output_type": "stream",
     "text": [
      "Operation(job_id='p1', operation_id=1, plan_machine_id='a1_0', duration=17, successor=2, plan_start=0, plan_end=17)\n",
      "Operation(job_id='p1', operation_id=3, plan_machine_id='a3_0', duration=14, successor=4, plan_start=0, plan_end=14)\n",
      "Operation(job_id='p2', operation_id=1, plan_machine_id='a1_1', duration=13, successor=3, plan_start=0, plan_end=13)\n",
      "Operation(job_id='p2', operation_id=2, plan_machine_id='a3_1', duration=15, successor=3, plan_start=0, plan_end=15)\n",
      "Operation(job_id='p2', operation_id=3, plan_machine_id='a2_0', duration=10, successor=4, plan_start=15, plan_end=25)\n",
      "Operation(job_id='p1', operation_id=2, plan_machine_id='a2_0', duration=30, successor=4, plan_start=25, plan_end=55)\n",
      "Operation(job_id='p2', operation_id=4, plan_machine_id='a6_0', duration=20, successor=-1, plan_start=25, plan_end=45)\n",
      "Operation(job_id='p1', operation_id=4, plan_machine_id='a4_0', duration=15, successor=5, plan_start=55, plan_end=70)\n",
      "Operation(job_id='p1', operation_id=5, plan_machine_id='a5_0', duration=25, successor=-1, plan_start=70, plan_end=95)\n"
     ]
    }
   ],
   "source": [
    "from plan.GifflerThompson import GifflerThompson\n",
    "from factory.Operation import Operation\n",
    "# Beispielhafte Datenstruktur\n",
    "jobs_data = [\n",
    "    ['p1', 1, 'a1', 17, 2],\n",
    "    ['p1', 2, 'a2', 30, 4],\n",
    "    ['p1', 3, 'a3', 14, 4],\n",
    "    ['p1', 4, 'a4', 15, 5],\n",
    "    ['p1', 5, 'a5', 25, -1],\n",
    "    ['p2', 1, 'a1', 13, 3],\n",
    "    ['p2', 2, 'a3', 15, 3],\n",
    "    ['p2', 3, 'a2', 10, 4],\n",
    "    ['p2', 4, 'a6', 20, -1],\n",
    "]\n",
    "\n",
    "# Maschinenpools definieren\n",
    "# id, number, tools \n",
    "machine_pools_data = [\n",
    "    ['a1', 2, [1,2,3]],\n",
    "    ['a2', 1, [1,2,3]],\n",
    "    ['a3', 2, [1,2,3]],\n",
    "    ['a4', 1, [1,2,3]],\n",
    "    ['a5', 1, [1,2,3]],\n",
    "    ['a6', 1, [1,2,3]],\n",
    "]\n",
    "\n",
    "# Konvertiere die jobs_data in Operation-Objekte\n",
    "operations = [Operation(*data) for data in jobs_data]\n",
    "\n",
    "\n",
    "# Define a priority rule\n",
    "def calculate_dynamic_priority(operation) -> int:\n",
    "    # Priorität basierend auf der geplanten Startzeit der Vorgängeraufgaben\n",
    "    if not operation.predecessor_operations:\n",
    "        return operation.plan_start if operation.plan_start is not None else 0\n",
    "    else:\n",
    "        return max(pred.plan_start for pred in operation.predecessor_operations) + operation.duration\n",
    "    \n",
    "\n",
    "# define an inference rule    \n",
    "def inference(operation: Operation) -> int:\n",
    "    return operation.duration\n",
    "\n",
    "gt = GifflerThompson(calculate_dynamic_priority, inference)\n",
    "# Führe den Giffler Thompson Algorithmus aus\n",
    "result_schedule = gt.giffen_thompson(operations, machine_pools_data)\n",
    "\n",
    "# Ausgabe des Ergebnisses\n",
    "for entry in result_schedule:\n",
    "    print(entry)"
   ]
  },
  {
   "cell_type": "code",
   "execution_count": 2,
   "metadata": {},
   "outputs": [
    {
     "name": "stdout",
     "output_type": "stream",
     "text": [
      "0\n",
      "0\n",
      "15\n",
      "25\n",
      "0\n",
      "25\n",
      "0\n",
      "55\n",
      "70\n",
      "0, job: p2, operation_id: 1, getting resource\n",
      "0, job: p2, operation_id: 2, getting resource\n",
      "0, job: p1, operation_id: 1, getting resource\n",
      "0, job: p1, operation_id: 3, getting resource\n",
      "0, job: p2, operation_id: 1, starting operation\n",
      "0, job: p2, operation_id: 2, starting operation\n",
      "0, job: p1, operation_id: 1, starting operation\n",
      "0, job: p1, operation_id: 3, starting operation\n",
      "13, job: p2, operation_id: 1, finished operation\n",
      "14, job: p1, operation_id: 3, finished operation\n",
      "15, job: p2, operation_id: 2, finished operation\n",
      "15, job: p2, operation_id: 3, getting resource\n",
      "15, job: p2, operation_id: 3, starting operation\n",
      "17, job: p1, operation_id: 1, finished operation\n",
      "25, job: p2, operation_id: 3, finished operation\n",
      "25, job: p1, operation_id: 2, getting resource\n",
      "25, job: p1, operation_id: 2, starting operation\n",
      "25, job: p2, operation_id: 4, getting resource\n",
      "25, job: p2, operation_id: 4, starting operation\n",
      "45, job: p2, operation_id: 4, finished operation\n",
      "55, job: p1, operation_id: 2, finished operation\n",
      "55, job: p1, operation_id: 4, getting resource\n",
      "55, job: p1, operation_id: 4, starting operation\n",
      "70, job: p1, operation_id: 4, finished operation\n",
      "70, job: p1, operation_id: 5, getting resource\n",
      "70, job: p1, operation_id: 5, starting operation\n",
      "95, job: p1, operation_id: 5, finished operation\n"
     ]
    }
   ],
   "source": [
    "from simulation.Simulator import Simulator\n",
    "from simulation.Monitoring.BasicMonitor import monitorResource\n",
    "from functools import partial\n",
    "\n",
    "# array to store monitored data\n",
    "data = []\n",
    "\n",
    "# resource monitor [pre , post] execution\n",
    "monitor = [None, partial(monitorResource, data)]\n",
    "\n",
    "sim = Simulator(machine_pools_data\n",
    "                , result_schedule\n",
    "                , monitor\n",
    "                , inference)\n",
    "\n",
    "sim.env.run(300)"
   ]
  },
  {
   "cell_type": "code",
   "execution_count": 4,
   "metadata": {},
   "outputs": [
    {
     "name": "stdout",
     "output_type": "stream",
     "text": [
      "('a1_1', None, 0, 1, 0)\n",
      "('a3_1', None, 0, 1, 0)\n",
      "('a1_0', None, 0, 1, 0)\n",
      "('a3_0', None, 0, 1, 0)\n",
      "('a1_1', Operation(job_id='p2', operation_id=1, plan_machine_id='a1_1', duration=13, successor=3, plan_start=0, plan_end=13), 13, 0, 0)\n",
      "('a3_0', Operation(job_id='p1', operation_id=3, plan_machine_id='a3_0', duration=14, successor=4, plan_start=0, plan_end=14), 14, 0, 0)\n",
      "('a3_1', Operation(job_id='p2', operation_id=2, plan_machine_id='a3_1', duration=15, successor=3, plan_start=0, plan_end=15), 15, 0, 0)\n",
      "('a2_0', None, 15, 1, 0)\n",
      "('a1_0', Operation(job_id='p1', operation_id=1, plan_machine_id='a1_0', duration=17, successor=2, plan_start=0, plan_end=17), 17, 0, 0)\n",
      "('a2_0', Operation(job_id='p2', operation_id=3, plan_machine_id='a2_0', duration=10, successor=4, plan_start=15, plan_end=25), 25, 0, 0)\n",
      "('a2_0', Operation(job_id='p2', operation_id=3, plan_machine_id='a2_0', duration=10, successor=4, plan_start=15, plan_end=25), 25, 1, 0)\n",
      "('a6_0', None, 25, 1, 0)\n",
      "('a6_0', Operation(job_id='p2', operation_id=4, plan_machine_id='a6_0', duration=20, successor=-1, plan_start=25, plan_end=45), 45, 0, 0)\n",
      "('a2_0', Operation(job_id='p1', operation_id=2, plan_machine_id='a2_0', duration=30, successor=4, plan_start=25, plan_end=55), 55, 0, 0)\n",
      "('a4_0', None, 55, 1, 0)\n",
      "('a4_0', Operation(job_id='p1', operation_id=4, plan_machine_id='a4_0', duration=15, successor=5, plan_start=55, plan_end=70), 70, 0, 0)\n",
      "('a5_0', None, 70, 1, 0)\n",
      "('a5_0', Operation(job_id='p1', operation_id=5, plan_machine_id='a5_0', duration=25, successor=-1, plan_start=70, plan_end=95), 95, 0, 0)\n"
     ]
    }
   ],
   "source": [
    "for d in data:\n",
    "    print(d)"
   ]
  },
  {
   "cell_type": "code",
   "execution_count": 5,
   "metadata": {},
   "outputs": [
    {
     "data": {
      "image/png": "[encoded data removed]",
      "text/plain": [
       "<Figure size 1200x300 with 1 Axes>"
      ]
     },
     "metadata": {},
     "output_type": "display_data"
    }
   ],
   "source": [
    "import matplotlib.pyplot as plt\n",
    "import pandas as pd\n",
    "import math\n",
    "\n",
    "# Daten in ein DataFrame konvertieren\n",
    "df = pd.DataFrame([p.to_dict() for p in result_schedule])\n",
    "\n",
    "size_height = math.ceil(df[\"machine\"].count().itemsize / 3)\n",
    "# Gantt-Diagramm erstellen\n",
    "fig, ax = plt.subplots(figsize=(12, size_height))\n",
    "\n",
    "# Maschinen als y-Werte für die Balken\n",
    "machines = df['machine'].unique()\n",
    "machine_to_y = {machine: i for i, machine in enumerate(machines)}\n",
    "\n",
    "# Iteriere über jede Zeile des DataFrames\n",
    "for i, row in df.iterrows():\n",
    "    start = row['start_time']\n",
    "    duration = row['duration']\n",
    "    job_id = row['job_id']\n",
    "    task_id = row['operation_id']\n",
    "    machine = row['machine']\n",
    "    label = f'{job_id} {task_id}'\n",
    "\n",
    "    # Stelle die Aufgabe als Balken im Diagramm dar\n",
    "    ax.barh(y=machine_to_y[machine], left=start, width=duration, height=0.8, align='center', color='lightgrey', edgecolor='black')\n",
    "    \n",
    "    # Text in den Balken einfügen\n",
    "    ax.text(x=start + duration / 2, y=machine_to_y[machine], s=label, va='center', ha='center', color='black')\n",
    "\n",
    "# Diagramm formatieren\n",
    "ax.set_xlabel('Time')\n",
    "ax.set_yticks(list(machine_to_y.values()))\n",
    "ax.set_yticklabels(list(machine_to_y.keys()))\n",
    "ax.set_title('Gantt Chart')\n",
    "\n",
    "# Grid anzeigen\n",
    "ax.grid(True)\n",
    "\n",
    "# Legende entfernen, da sie nicht mehr notwendig ist\n",
    "# Handles und Labels der Legende deduplizieren\n",
    "# handles, labels = plt.gca().get_legend_handles_labels()\n",
    "# by_label = dict(zip(labels, handles))\n",
    "# plt.legend(by_label.values(), by_label.keys())\n",
    "\n",
    "# Diagramm anzeigen\n",
    "plt.show()\n"
   ]
  }
 ],
 "metadata": {
  "kernelspec": {
   "display_name": ".venv",
   "language": "python",
   "name": "python3"
  },
  "language_info": {
   "codemirror_mode": {
    "name": "ipython",
    "version": 3
   },
   "file_extension": ".py",
   "mimetype": "text/x-python",
   "name": "python",
   "nbconvert_exporter": "python",
   "pygments_lexer": "ipython3",
   "version": "3.10.12"
  }
 },
 "nbformat": 4,
 "nbformat_minor": 2
}
